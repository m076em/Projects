{
 "cells": [
  {
   "cell_type": "markdown",
   "metadata": {},
   "source": [
    "<font size=\"1\"> *This notebook is best viewed in jupyter lab/notebook. You may also choose to use Google Colab but some parts of the images/colouring will not be rendered properly.</font> "
   ]
  },
  {
   "cell_type": "markdown",
   "metadata": {},
   "source": [
    "<div class=\"alert alert-block alert-warning\">\n",
    "\n",
    "# <p style=\"text-align: center;\">Lab 1 (Weeks 1,2): Python Basics - Part 2. Application Notebook</p>\n",
    "\n",
    "<img src=\"https://upload.wikimedia.org/wikipedia/commons/c/c3/Python-logo-notext.svg\" width=\"200\" height=\"200\" />\n",
    "\n",
    "Welcome to your very first lab of ECE4179. Labs in this unit will run as a help desk and they are not mandatory to attend.   \n",
    "\n",
    "The two notebooks provided contain all the code and comments that you need to submit. Feel free to add in your own markdown for additional comments. After completion, You need to submit both Jupyter Notebooks (.ipynb file) to Moodle. Make sure you run the Notebooks before submitting and all outputs are visible.\n",
    "        \n",
    "In this Lab, you will find four tasks distributed across two notebooks: Basics and Applications. The first two tasks test your basic python knowledge and the applcations of numpy and matplotlib libraries. The last two tasks, you will apply the knowledge you gained so far to solve practical problems.\n",
    "- <b>Task 1:</b> Python Basics\n",
    "- <b>Task 2:</b> Data Analysis and Visualization\n",
    "- <b>Task 3:</b> Wanna play Darts?\n",
    "- <b>Task 4:</b> Thinking inside the ball!\n",
    "    \n",
    "Each task will contain code to complete, and a worded question, so ensure you complete both bfeore submitting.\n",
    "\n",
    "Good luck with the Lab! Submit it before the deadline to enjoy full marks."
   ]
  },
  {
   "cell_type": "markdown",
   "metadata": {},
   "source": [
    "<b>Enter you student details below</b>\n",
    "\n",
    "- <b>Student Name:</b> Omar Afifi\n",
    "- <b>Student ID:</b> 31105327  "
   ]
  },
  {
   "cell_type": "markdown",
   "metadata": {},
   "source": [
    "<div class=\"alert alert-block alert-danger\">\n",
    "\n",
    "## Table of Contents  \n",
    "\n",
    "* [Task 3: Wanna play Darts?](#wanna-play-darts)\n",
    "\t* [Estimating $\\pi$](#estimating-pi)\n",
    "    \n",
    "    \n",
    "* [Task 4: Thinking inside the Ball!](#thinking-inside-the-ball)\n",
    "    * [Calculating the volume of an N-dimensional ball](#calc-n-dim-ball)\n"
   ]
  },
  {
   "cell_type": "code",
   "execution_count": 1,
   "metadata": {},
   "outputs": [],
   "source": [
    "## Libraries, you do not need to import any additional libraries for this lab\n",
    "\n",
    "import numpy as np ## Numpy is the fundamental building block of understanding tensor (matrices) within Python\n",
    "import matplotlib.pyplot as plt ## Matplotlib.pyplot is the graphing library that we will be using throughout the semester\n",
    "import random ## Useful for sampling \n",
    "\n",
    "from scipy.special import gamma ## Pre-built gamma function that we will use for this lab (for the final task)\n",
    "import math # Basic math library\n",
    "\n",
    "import os ## Useful for running command line within python\n",
    "from IPython.display import Image ## For markdown purposes"
   ]
  },
  {
   "cell_type": "markdown",
   "metadata": {
    "tags": [
     "Lab1_Task3"
    ]
   },
   "source": [
    "<div class=\"alert alert-block alert-info\">\n",
    "\n",
    "# Task 3 - Wanna play Darts? <a class=\"anchor\" id=\"wanna-play-darts\"></a>\n",
    "\n",
    "<img src=\"https://upload.wikimedia.org/wikipedia/commons/f/f3/Dartboard_unlabeled.svg\" width=\"200\" height=\"200\" />\n",
    "\n",
    "    \n",
    "    \n",
    "    \n",
    "Once upon a time, in a faraway land...    \n",
    "    \n",
    "Jim walked into a bustling pub, seeking a night of fun. Drawn to the dartboard, he joined the game, aiming his darts with excitement. Amidst his throws, Jim's mind sparked an idea—what if the dart game could estimate $\\pi$? He saw that the scattered hits and misses resembled random points within a square and a unit circle. Intrigued, he decided to test the theory, tallying the dart hits inside the circle."
   ]
  },
  {
   "cell_type": "markdown",
   "metadata": {},
   "source": [
    "<div class=\"alert alert-block alert-info\">\n",
    "    \n",
    "## Learning Objective \n",
    "    \n",
    "This task aims to explore a fascinating way of estimating the mathematical constant $\\pi$ using a dart game analogy. You will delve into random points within a square and a unit circle, visualized through a dartboard scenario. Through this task, you will gain insights into probability, Monte Carlo simulations, the relationship between the dart hits inside the circle, and the estimation of $\\pi$. By the end of this task, you will have a deeper appreciation for the connection between geometry and probability and the intriguing ways mathematical constants can be approximated in real-world scenarios."
   ]
  },
  {
   "cell_type": "markdown",
   "metadata": {},
   "source": [
    "## Estimating $\\pi$ <a class=\"anchor\" id=\"estimating-pi\"></a>\n",
    "\n",
    "In this task, you will help Jim to estimating the value of $\\pi$ by using the analogy of throwing darts. Use Numpy to complete this task. Here we assume that the dart hits are spread uniformly across the square region which encapsulates the circle darts board. The following figure shows 10 randomly sampled points\n",
    "\n",
    "<img src=\"https://miro.medium.com/max/803/0*oWmkwPg771ISI_aW\" width=\"300\" height=\"300\" />\n",
    "\n",
    "You can read this article to get a better understanding of what is happening: https://www.cantorsparadise.com/calculating-the-value-of-pi-using-random-numbers-a-monte-carlo-simulation-d4b80dc12bdf"
   ]
  },
  {
   "cell_type": "markdown",
   "metadata": {},
   "source": [
    "#### (a) Follow the below instructions to estimate $\\pi.$\n",
    "- Generate random uniform samples between the values of \\[0,1) in 2 dimensions\n",
    "- Next, compute L2 norm (ie. euclidean distance from origin) of every datapoint in the 2 dimensions\n",
    "- Compute the probablity that a given point lies within the unit circle\n",
    "- That probability equals a quarter area of the circle"
   ]
  },
  {
   "cell_type": "code",
   "execution_count": null,
   "metadata": {},
   "outputs": [],
   "source": [
    "## Intiialise variables \n",
    "\n",
    "dim = 2\n",
    "nSamples = int(1e5) # feel free to change\n",
    "\n",
    "# Apply uniform sampling via the np.random.uniform function. Save it in the variable X\n",
    "# Make sure to read the numpy documentation to see how it is used\n",
    "\n",
    "X = np.random.uniform(0,1,[nSamples,dim])\n",
    "\n",
    "## Normalise it in L2 norm (ie. Calculate euclidean distance)\n",
    "\n",
    "norm_X = [np.linalg.norm(X[x]) for x in range(len(X))]\n",
    "\n",
    "## Calculate the probability of the points being a radius of 1 away from the centre\n",
    "\n",
    "prob = sum( i <=1 for i in norm_X)/len(norm_X)\n",
    "\n",
    "area = prob ## Area of one quarter of a circle is the same as the probability that we have randomly sampled from\n",
    "print(X)"
   ]
  },
  {
   "cell_type": "markdown",
   "metadata": {},
   "source": [
    "#### Now, we can derive the equation for $\\pi$ based off the following formula"
   ]
  },
  {
   "cell_type": "markdown",
   "metadata": {},
   "source": [
    "  \n",
    "The equation below demonstrates how $\\pi$ can be calculated\n",
    "\n",
    "\\begin{equation*}\n",
    "\\frac{(\\pi r^2)}{4} = area\n",
    "\\newline\n",
    "\\pi = \\frac{4 * area}{r^2}\n",
    "\\newline\n",
    "\\pi = 4 * area\n",
    "\\newline\n",
    "\\end{equation*}\n",
    "\n",
    "Where _area_ is the quantity calculated above."
   ]
  },
  {
   "cell_type": "markdown",
   "metadata": {},
   "source": [
    "#### (b) Evaluate the formula and find $\\pi.$"
   ]
  },
  {
   "cell_type": "code",
   "execution_count": 41,
   "metadata": {},
   "outputs": [
    {
     "name": "stdout",
     "output_type": "stream",
     "text": [
      "Estimated Pi: 3.145\n"
     ]
    }
   ],
   "source": [
    "est_pi = area*8\n",
    "print(f\"Estimated Pi: {est_pi:.3f}\")"
   ]
  },
  {
   "cell_type": "markdown",
   "metadata": {},
   "source": [
    "<div class=\"alert alert-block alert-success\">\n",
    "\n",
    "#### Discussion\n",
    "\n",
    "#### Answer the below questions based on your implementation and results.\n",
    "1. Is the estimate of $\\pi$ close to the actual value? Why/why not? \n",
    "2. What could be potential influences? how can you improve your estimation of $\\pi$? \n",
    "3. Will it work if you used a normal distribution instead of a uniform distribution? "
   ]
  },
  {
   "cell_type": "markdown",
   "metadata": {},
   "source": [
    "<div class=\"alert alert-block alert-success\">\n",
    "\n",
    "1. it is close, but it is not perfect, due to the finite number of points that we sampled at the start, the bigger the number of points we sample, the closer our estimation of pi will be to actual pi\n",
    "2. as we increase the number of sample point, we get closer to the value of pi, and we reach the value of pi at infinitely many sampled points\n",
    "3. No, because a normal distribution has a non-zero probability for values bigger than 1. So although using a normal distribution might still give us a relatively close value to pi, if parameters are chosen carefully, using a uniform distribution is always going to be more accurate\n",
    "\n"
   ]
  },
  {
   "cell_type": "markdown",
   "metadata": {},
   "source": [
    "<div class=\"alert alert-block alert-info\">\n",
    "\n",
    "# Task 4 - Thinking inside the Ball! <a class=\"anchor\" id=\"thinking-inside-the-ball\"></a>\n",
    "\n",
    "<img src=\"https://upload.wikimedia.org/wikipedia/commons/thumb/0/08/Sphere_wireframe.svg/220px-Sphere_wireframe.svg.png\" width=\"200\" height=\"200\" />\n",
    "\n",
    "    \n",
    "    \n",
    "    \n",
    "N-dimensional balls, also known as n-balls, extend the concept of spheres into higher dimensions. They represent perfectly round objects in spaces with any number of dimensions (in mathematical sense, objects with constant positive curvature). Just like a three-dimensional sphere is a perfectly round object, an n-ball retains this characteristic in n-dimensional space. The n-ball is defined by its center point and a radius, which determines the distance from the center to any point on its surface. While it may be challenging to visualize n-balls beyond three dimensions, their study is crucial in mathematics, physics, and computer science, enabling us to understand and analyze complex phenomena in higher-dimensional spaces. In deep learning, it helps in understanding high-dimensional data distributions and defining search spaces."
   ]
  },
  {
   "cell_type": "markdown",
   "metadata": {},
   "source": [
    "<div class=\"alert alert-block alert-info\">\n",
    "    \n",
    "## Learning Objective \n",
    "    \n",
    "This task introduces you to n-dimensional balls, also known as n-balls, and their significance in higher-dimensional spaces. Through this task, you will understand how n-balls extend the idea of spheres to spaces with any dimensions, retaining their perfectly round characteristics. You will explore the definition of n-balls, consisting of a center point and a radius, determining the distance from the center to any point on its surface. "
   ]
  },
  {
   "cell_type": "markdown",
   "metadata": {},
   "source": [
    "## Calculating the volume of an N-dimensional ball <a class=\"anchor\" id=\"calc-n-dim-ball\"></a>\n",
    "\n",
    "In this task, we want to estimate and calculate the volume of an N-dimensional ball of radius one and discuss the implications of scaling to a higher dimensional space. Use Numpy and matplotplib to complete this task.\n",
    "\n",
    "- For a 2-dimensional ball (circle), the volume is by $\\pi r^2$\n",
    "\n",
    "- For a 3-dimensional ball (sphere), the volume is given by $\\frac{4 \\pi r^3}{3}$\n",
    "\n",
    "- For an n-dimensional ball, the volume is given by $V_n(r) = \\frac{\\pi ^ \\frac{n}{2}}{\\Gamma(\\frac{n}{2} + 1)}r^n$\n",
    "\n",
    "$\\Gamma$ is called _gamma_ and it is analagous to factorials but across the continuous domain. In this case, we are using it for calculus to calculate the volume of an N-dimensional ball. You can simply use the _gamma()_ function directly (we have imported this for you) in order to calculate the volume of an N-dimensional ball. Feel free to read more here with regards to N-dimensional balls: https://en.wikipedia.org/wiki/Volume_of_an_n-ball"
   ]
  },
  {
   "cell_type": "markdown",
   "metadata": {},
   "source": [
    "#### (a) Follow the below instructions to estimate the volume of an N-dimensional ball.\n",
    "\n",
    "- For dimensions from 2 to 50, estimate the volume of an N-dimensional ball (similar to question 3). You can do this by taking the probability of a point being inside the N-dimensional ball of radius 1 by sampling between \\[0,1) across the N-dimensions and calculating its Euclidean distance. Afterwards, you can calculate the volume by doing 2^N * (fraction of points within unit circle in high dimensional space). This is similar to Task 3."
   ]
  },
  {
   "cell_type": "code",
   "execution_count": 83,
   "metadata": {},
   "outputs": [
    {
     "name": "stdout",
     "output_type": "stream",
     "text": [
      "[3.140324, 4.190056, 4.939648, 5.283424, 5.177856, 4.720384, 4.052224, 3.3024, 2.528256, 1.910784, 1.441792, 0.98304, 0.524288, 0.262144, 0.393216, 0.0, 0.0, 0.0, 0.0, 0.0, 0.0, 0.0, 0.0, 0.0, 0.0, 0.0, 0.0, 0.0, 0.0, 0.0, 0.0, 0.0, 0.0, 0.0, 0.0, 0.0, 0.0, 0.0, 0.0, 0.0, 0.0, 0.0, 0.0, 0.0, 0.0, 0.0, 0.0, 0.0, 0.0]\n"
     ]
    }
   ],
   "source": [
    "# Initialise variables\n",
    "\n",
    "first_dim = 2\n",
    "last_dim = 50\n",
    "\n",
    "# nSamples is the number of samples that we will use to estimate the volume of an N-dimensional ball\n",
    "# You can initally decrease this while writing your code\n",
    "# but note having too small of a sample size for higher dimension might yield incorrect results\n",
    "# so it is recommended you use at least 10^6 amount of samples in your final discussion\n",
    "\n",
    "nSamples = int(1e6)\n",
    "est_vol = []\n",
    "for i in range(first_dim,last_dim+1):\n",
    "\n",
    "    X = np.random.uniform(0,1,[nSamples,i])\n",
    "\n",
    "    ## Normalise it in L2 norm (ie. Calculate euclidean distance)\n",
    "\n",
    "    norm_X = [np.linalg.norm(X[x]) for x in range(len(X))]\n",
    "\n",
    "    ## Calculate the probability of the points being a radius of 1 away from the centre\n",
    "\n",
    "    prob = sum( i <=1 for i in norm_X)/len(norm_X)\n",
    "\n",
    "    est_vol.append(prob*pow(2,i))\n",
    "\n",
    "\n",
    "# TO DO\n",
    "print(est_vol)"
   ]
  },
  {
   "cell_type": "markdown",
   "metadata": {},
   "source": [
    "#### (b) Calculate the actual volume of an N-dimensional ball with the equation given before."
   ]
  },
  {
   "cell_type": "code",
   "execution_count": 84,
   "metadata": {},
   "outputs": [
    {
     "name": "stdout",
     "output_type": "stream",
     "text": [
      "[3.141592653589793, 4.188790204786391, 4.934802200544679, 5.263789013914324, 5.167712780049969, 4.724765970331401, 4.058712126416768, 3.2985089027387064, 2.550164039877345, 1.8841038793898999, 1.3352627688545893, 0.9106287547832829, 0.5992645293207919, 0.38144328082330436, 0.23533063035889312, 0.140981106917139, 0.08214588661112819, 0.04662160103008853, 0.02580689139001405, 0.013949150409020993, 0.007370430945714348, 0.003810656386852123, 0.001929574309403922, 0.0009577224088231723, 0.00046630280576761234, 0.000222872124721274, 0.00010463810492484565, 4.8287822738917413e-05, 2.1915353447830204e-05, 9.787139946737361e-06, 4.303069587032944e-06, 1.8634670882621386e-06, 7.952054001475508e-07, 3.345288294108971e-07, 1.387895246221376e-07, 5.6808287183311744e-08, 2.2948428997269856e-08, 9.152230650159558e-09, 3.6047307974624982e-09, 1.4025649060731998e-09, 5.392664662608125e-10, 2.049436095396476e-10, 7.700707130601346e-11, 2.8615526139108097e-11, 1.0518471716932054e-11, 3.825460710520368e-12, 1.3768647280377402e-12, 4.905322148884562e-13, 1.7302192458361092e-13]\n"
     ]
    }
   ],
   "source": [
    "V = [pow(math.pi,n/2)/gamma((n/2) + 1) for n in range(first_dim,last_dim+1)]\n",
    "\n",
    "# We have imported the gamma function for you. You can use that straight away\n",
    "\n",
    "print(V)"
   ]
  },
  {
   "cell_type": "markdown",
   "metadata": {},
   "source": [
    "#### (c) Compare estimated and actual volumes by plotting them together."
   ]
  },
  {
   "cell_type": "code",
   "execution_count": 90,
   "metadata": {},
   "outputs": [
    {
     "data": {
      "image/png": "[encoded data removed]",
      "text/plain": [
       "<Figure size 1000x500 with 1 Axes>"
      ]
     },
     "metadata": {},
     "output_type": "display_data"
    }
   ],
   "source": [
    "\n",
    "plt.figure(figsize = (10,5))\n",
    "plt.plot(range(first_dim,last_dim+1),V)\n",
    "plt.plot(range(first_dim,last_dim+1),est_vol)\n",
    "\n",
    "\n",
    "plt.xlabel(\"Number of Dimensions\")\n",
    "plt.ylabel(\"Volume\")\n",
    "plt.title(\"Volume vs Number of dimensions of an n-ball\")\n",
    "plt.legend(['Exact Volume','Estimated Volume'])\n",
    "\n",
    "plt.show()"
   ]
  },
  {
   "cell_type": "markdown",
   "metadata": {},
   "source": [
    "#### (d) Interpret the actual volume and see if there is anything unexpected. Comment on your findings."
   ]
  },
  {
   "cell_type": "markdown",
   "metadata": {},
   "source": [
    "<div class=\"alert alert-block alert-success\">\n",
    "\n",
    "after 5 dimensions, the volume of the ball starts dropping and approaches 0 around 20 dimensions. Our estimated volume becomes 0 around 16 dimensions, the reason for that is that as we get to a large number of dimensions, the volume of the n-ball becomes significantly smaller than the n-cube, which means that the probability that any of the randomly generated samples to be inside our n-ball becomes significantly smaller, and since we are limited by how many sample points we can have, due to our computational limitations, the number of sample points that happen to be inside the n-ball in high dimensions is zero. But obviously, by increasing the number of sample points, we might get lucky to have some sample points fall inside our n-ball, potentially giving us a better estimation"
   ]
  },
  {
   "cell_type": "markdown",
   "metadata": {},
   "source": [
    "<div class=\"alert alert-block alert-danger\">\n",
    "\n",
    "# <p style=\"text-align: center;\">The End</p>\n"
   ]
  }
 ],
 "metadata": {
  "kernelspec": {
   "display_name": "Python 3 (ipykernel)",
   "language": "python",
   "name": "python3"
  },
  "language_info": {
   "codemirror_mode": {
    "name": "ipython",
    "version": 3
   },
   "file_extension": ".py",
   "mimetype": "text/x-python",
   "name": "python",
   "nbconvert_exporter": "python",
   "pygments_lexer": "ipython3",
   "version": "3.7.16"
  },
  "vscode": {
   "interpreter": {
    "hash": "dcb4be09c6369887b255ec43f7f14d3e527fd1b58c5c0441738eb1ab0a956e78"
   }
  }
 },
 "nbformat": 4,
 "nbformat_minor": 4
}
