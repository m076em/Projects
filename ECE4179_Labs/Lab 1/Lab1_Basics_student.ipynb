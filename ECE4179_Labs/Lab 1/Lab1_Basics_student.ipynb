{
 "cells": [
  {
   "cell_type": "markdown",
   "metadata": {},
   "source": [
    "<font size=\"1\"> *This notebook is best viewed in jupyter lab/notebook. You may also choose to use Google Colab but some parts of the images/colouring will not be rendered properly.</font> "
   ]
  },
  {
   "cell_type": "markdown",
   "metadata": {},
   "source": [
    "<div class=\"alert alert-block alert-warning\">\n",
    "\n",
    "# <p style=\"text-align: center;\">Lab 1 (Weeks 1,2): Python Basics - Part 1 Basics Notebook</p>\n",
    "\n",
    "<img src=\"https://upload.wikimedia.org/wikipedia/commons/c/c3/Python-logo-notext.svg\" width=\"200\" height=\"200\" />\n",
    "\n",
    "Welcome to your very first lab of ECE4179. Labs in this unit will run as a help desk and they are not mandatory to attend.   \n",
    "\n",
    "The two notebooks provided contain all the code and comments that you need to submit. Feel free to add in your own markdown for additional comments. After completion, You need to submit both Jupyter Notebooks (.ipynb file) to Moodle. Make sure you run the Notebooks before submitting and all outputs are visible.\n",
    "        \n",
    "In this Lab, you will find four tasks distributed across two notebooks: Basics and Applications. The first two tasks test your basic python knowledge and the applcations of numpy and matplotlib libraries. The last two tasks, you will apply the knowledge you gained so far to solve practical problems.\n",
    "- <b>Task 1:</b> Python Basics\n",
    "- <b>Task 2:</b> Data Analysis and Visualization\n",
    "- <b>Task 3:</b> Wanna play Darts?\n",
    "- <b>Task 4:</b> Thinking inside the ball!\n",
    "      \n",
    "Each task will contain code to complete, and a worded question, so ensure you complete both bfeore submitting.\n",
    "\n",
    "Good luck with the Lab! Submit it before the deadline to enjoy full marks."
   ]
  },
  {
   "cell_type": "markdown",
   "metadata": {},
   "source": [
    "<b>Enter you student details below</b>\n",
    "\n",
    "- <b>Student Name:</b> Omar Afifi\n",
    "- <b>Student ID:</b> 31105327   "
   ]
  },
  {
   "cell_type": "markdown",
   "metadata": {},
   "source": [
    "<div class=\"alert alert-block alert-danger\">\n",
    "\n",
    "## Table of Contents\n",
    "\n",
    "* [Libraries](#Libraries)\n",
    "\n",
    "\n",
    "* [Task 1: Python basics](#python-basics)    \n",
    "    * [1.1 Data types](#data-types) \n",
    "    * [1.2 Conditional statements](#conditional-statements)   \n",
    "    * [1.3 Loops](#loops)    \n",
    "    * [1.4 Functions](#functions)    \n",
    "    * [1.5 Classes](#classes)\n",
    "    \n",
    "    \n",
    "* [Task 2: Data Analysis and Visualization](#data-analysis-and-visualization)  \n",
    "    * [2.1 Numpy](#numpy)\n",
    "    * [2.2 Matplotlib](#matplotlib)"
   ]
  },
  {
   "cell_type": "markdown",
   "metadata": {},
   "source": [
    "<div class=\"alert alert-block alert-warning\">\n",
    "\n",
    "# Libraries\n",
    "\n",
    "Libraries are important as it saves us time from writing our own functions all the time such as graphing, or creating matrices. Brief library descriptions have been added for every library that we import. You may also check the official documentations for more details.\n",
    "\n",
    "We can use the \"import\" function to import libraries, and use _as_ to rename the library within our workspace. For example, we could have used _import numpy_ by itself, and referenced Numpy functions by _numpy.function_, but instead we have an alias of Numpy as _np.function_ instead. "
   ]
  },
  {
   "cell_type": "code",
   "execution_count": null,
   "metadata": {},
   "outputs": [],
   "source": [
    "## Libraries, you do not need to import any additional libraries for this lab\n",
    "\n",
    "import numpy as np ## Numpy is the fundamental building block of understanding tensor (matrices) within Python\n",
    "import matplotlib.pyplot as plt ## Matplotlib.pyplot is the graphing library that we will be using throughout the semester\n",
    "import random ## Useful for sampling \n",
    "\n",
    "import math # Basic math library\n",
    "\n",
    "import os ## Useful for running command line within python\n",
    "from IPython.display import Image ## For markdown purposes\n"
   ]
  },
  {
   "cell_type": "markdown",
   "metadata": {},
   "source": [
    "<div class=\"alert alert-block alert-info\">\n",
    "\n",
    "# Task 1 - Python basics <a class=\"anchor\" id=\"python-basics\"></a>\n",
    "    \n",
    "This Task will test your knowledge under five subsections. You will use the knowledge gained from the python tutorial to answer the question. \n",
    "\n",
    "- 1.1 Data types\n",
    "- 1.2 Conditional statements\n",
    "- 1.3 Loops \n",
    "- 1.4 Functions\n",
    "- 1.5 Classes"
   ]
  },
  {
   "cell_type": "markdown",
   "metadata": {},
   "source": [
    "<div class=\"alert alert-block alert-info\">\n",
    "    \n",
    "## Learning Objective \n",
    "    \n",
    "This task on Python basics aims to familiarize you with fundamental concepts and features of the Python programming language. By the end of this section, you should be able to understand and utilize data types, write conditional statements to make decisions in their code, implement loops for repetitive tasks, define and use functions for code reusability, and grasp the basics of object-oriented programming by creating and utilizing classes. This foundational knowledge will provide a solid understanding of Python's core concepts, enabling you to build more complex programs and tackle real-world programming challenges effectively."
   ]
  },
  {
   "cell_type": "markdown",
   "metadata": {},
   "source": [
    "<div class=\"alert alert-block alert-info\">\n",
    "\n",
    "## 1.1  Data types <a class=\"anchor\" id=\"data-types\"></a>\n",
    "\n",
    "Python supports various data types such providing flexibility and versatility for data manipulation and analysis."
   ]
  },
  {
   "cell_type": "markdown",
   "metadata": {},
   "source": [
    "#### (a) Before beginning, it is always good to know the basics of Python. Python have data types such as :"
   ]
  },
  {
   "cell_type": "markdown",
   "metadata": {},
   "source": [
    "1. number\n",
    "2. string\n",
    "3. list\n",
    "4. dictionary\n",
    "5. tuple"
   ]
  },
  {
   "cell_type": "markdown",
   "metadata": {},
   "source": [
    "#### (b) Manually create a list of values from 3 to 30 (inclusive) in intervals 3."
   ]
  },
  {
   "cell_type": "code",
   "execution_count": 4,
   "metadata": {},
   "outputs": [
    {
     "name": "stdout",
     "output_type": "stream",
     "text": [
      "[3, 6, 9, 12, 15, 18, 21, 24, 27, 30]\n"
     ]
    }
   ],
   "source": [
    "x = 3\n",
    "y = 30\n",
    "i = 3\n",
    "my_list = [z for z in range(x,y+i,i)] ## Make the list here\n",
    "print(my_list)"
   ]
  },
  {
   "cell_type": "markdown",
   "metadata": {},
   "source": [
    "#### (c) Next, append the string \"Multiplication table of 3\" to the end of the list.\n",
    "\n",
    "You will find that the append method is useful in later labs as it allows you to append results at computation time."
   ]
  },
  {
   "cell_type": "code",
   "execution_count": 5,
   "metadata": {},
   "outputs": [
    {
     "name": "stdout",
     "output_type": "stream",
     "text": [
      "[3, 6, 9, 12, 15, 18, 21, 24, 27, 30, 'Mltiplication table of 3']\n",
      "Length of list is 11 and the contents of my_list is: \n",
      "[3, 6, 9, 12, 15, 18, 21, 24, 27, 30, 'Mltiplication table of 3']\n"
     ]
    }
   ],
   "source": [
    "string = \"Mltiplication table of 3\"## Append to the list from before\n",
    "my_list.append(string)\n",
    "\n",
    "print(f\"Length of list is {len(my_list)} and the contents of my_list is: \\n{my_list}\")"
   ]
  },
  {
   "cell_type": "markdown",
   "metadata": {},
   "source": [
    "#### (d) Create a dictionary with the following mappings.\n",
    "- 'Unit' : 4179\n",
    "- 'Session': 'Lab 1'\n",
    "- 'Date': 'July 20, 2023'\n",
    "- 'Students': ['Jim', 'Gary', 'Hon']\n",
    "\n",
    "#### Obtain all the keys using .keys() method and print it out as a list. Obtain all the values using .values() method and print it out as a list. Finally, access the value of the key \"Date\" and print it out.\n",
    "\n",
    "\n",
    "Dictionaries are a good way to store information with a key that is easily accessible. This can become useful when you want to store learnt parameters of a model, and the hyper parameters used to train a model."
   ]
  },
  {
   "cell_type": "code",
   "execution_count": 7,
   "metadata": {},
   "outputs": [
    {
     "name": "stdout",
     "output_type": "stream",
     "text": [
      "dict_keys(['Unit', 'Session', 'Date', 'Students'])\n",
      "dict_values([4179, 'Lab 1', 'July 20,2023', ['Jim', 'Gary', 'Hon', 'Jeff']])\n",
      "July 20,2023\n"
     ]
    }
   ],
   "source": [
    "## Create a dictionary from scratch\n",
    "my_dict = {\n",
    "  \"Unit\": 4179,\n",
    "  \"Session\": \"Lab 1\",\n",
    "  \"Date\": \"July 20,2023\",\n",
    "  \"Students\" : [\"Jim\",\"Gary\",\"Hon\",\"Jeff\"]\n",
    "  }\n",
    "\n",
    "## Print all the keys and values by accessing the attributes of the object, and print the Date\n",
    "print(my_dict.keys())\n",
    "print(my_dict.values())\n",
    "print(my_dict[\"Date\"])"
   ]
  },
  {
   "cell_type": "markdown",
   "metadata": {},
   "source": [
    "<div class=\"alert alert-block alert-info\">\n",
    "\n",
    "## 1.2 Conditional statements <a class=\"anchor\" id=\"conditional-statements\"></a>\n",
    "\n",
    "Conditional statements in Python allow for the execution of different code blocks based on specified conditions, enabling the creation of decision-making logic within a program. \n",
    "    \n",
    "In Python, you need to use identation to specify the scope of conditional statements. It is highly recommended you use _tab_ for identation, rather than spaces, as it will format your code much nicer and become more readable. This would also give you less change to make mistakes."
   ]
  },
  {
   "cell_type": "markdown",
   "metadata": {},
   "source": [
    "#### (a) Write an IF statement to check whether 10432 is divisible by 3 and 4."
   ]
  },
  {
   "cell_type": "code",
   "execution_count": 10,
   "metadata": {},
   "outputs": [
    {
     "name": "stdout",
     "output_type": "stream",
     "text": [
      "the number 10432 is devisable by 4 and not 3\n"
     ]
    }
   ],
   "source": [
    "number = 10432 # Initialise number\n",
    "\n",
    "# Write IF statements to check divisiblity. You may find the modulus (%) operator useful\n",
    "if number % 4 ==0 and number % 3 == 0:\n",
    "    print(\"the number\",number,\"is devisable by 3 and 4\")\n",
    "elif number %4 == 0:\n",
    "    print(\"the number\",number,\"is devisable by 4 and not 3\")\n",
    "elif number %3 ==0:\n",
    "    print(\"the number\",number,\"is devisable by 3 and not 4\")\n",
    "else:\n",
    "    print(\"the number\",number,\"is not devisable by 3 and 4\")"
   ]
  },
  {
   "cell_type": "markdown",
   "metadata": {},
   "source": [
    "#### (b) Check if your student number is a float.\n",
    "\n",
    "You may find the function _type_ to be useful. Remember, checking data types is useful in helping you debug for niche cases (such as applying operations on mismatching data types ). See here for documentation about _type_:\n",
    "\n",
    "https://www.programiz.com/python-programming/methods/built-in/type"
   ]
  },
  {
   "cell_type": "code",
   "execution_count": 11,
   "metadata": {},
   "outputs": [
    {
     "name": "stdout",
     "output_type": "stream",
     "text": [
      "my student ID is definetly not a float\n"
     ]
    }
   ],
   "source": [
    "am_i_a_float = 31105327 # Intiialised variable\n",
    "\n",
    "# Check if the \"am_i_a_float\" variable is a float \n",
    "if am_i_a_float is float:\n",
    "    print(\"my student ID is indeed a float\")\n",
    "else:\n",
    "    print(\"my student ID is definetly not a float\")"
   ]
  },
  {
   "cell_type": "markdown",
   "metadata": {},
   "source": [
    "#### (c)  Write an IF statement to check whether this year (2023) is a leap year.\n",
    "\n",
    "__Note: If the year is divisible by 4 and not divisible by 100, or if it is divisible by 400, then it is a leap year__"
   ]
  },
  {
   "cell_type": "code",
   "execution_count": 16,
   "metadata": {},
   "outputs": [
    {
     "name": "stdout",
     "output_type": "stream",
     "text": [
      "the year 2020 is indeed a leap year\n"
     ]
    }
   ],
   "source": [
    "year = 2023\n",
    "\n",
    "# hint: print(f\"The year {year} is a leap year\") This type of printing is useful. \n",
    "# You need to use the print statement, along with \"f\" before the string. \n",
    "# Use the curly brackets to place in your variables\n",
    "\n",
    "# TO DO\n",
    "if year %4: #if there is a remainder this will return true, and will return false for no remainder (0)\n",
    "    print(f\"the year {year} is NOT a leap year\")\n",
    "else:\n",
    "    print(f\"the year {year} is indeed a leap year\")"
   ]
  },
  {
   "cell_type": "markdown",
   "metadata": {},
   "source": [
    "<div class=\"alert alert-block alert-info\">\n",
    "\n",
    "## 1.3 Loops <a class=\"anchor\" id=\"loops\"></a>\n",
    "\n",
    "Python loops allow for the repetition of a block of code multiple times, making it efficient and convenient to perform iterative tasks or iterate over collections of data. Remember, indexing starts from 0! \n",
    "    \n",
    "In Python, you need to use identation to specify the scope of loops. It is highly recommended you use _tab_ for identation, rather than spaces, as it will format your code much nicer and become more readable, and give you less chance to make indentation mistakes."
   ]
  },
  {
   "cell_type": "markdown",
   "metadata": {},
   "source": [
    "#### (a) Print out the numbers from 0 and 5 (inclusive) using a for loop.\n",
    "\n",
    "You may find the _range_ function helpful. \n",
    "\n",
    "https://www.programiz.com/python-programming/methods/built-in/range"
   ]
  },
  {
   "cell_type": "code",
   "execution_count": 17,
   "metadata": {},
   "outputs": [
    {
     "name": "stdout",
     "output_type": "stream",
     "text": [
      "0\n",
      "1\n",
      "2\n",
      "3\n",
      "4\n",
      "5\n"
     ]
    }
   ],
   "source": [
    "## Print out the numbers from 0 to 5 (inclusive)\n",
    "for i in range(0,6):\n",
    "    print(i)"
   ]
  },
  {
   "cell_type": "markdown",
   "metadata": {},
   "source": [
    "#### (b) For the numbers between 80 and 210 (inclusive), print out the numbers that are multiples of 30.\n",
    "\n",
    "Remember, you need identations for each loop and each conditional statement"
   ]
  },
  {
   "cell_type": "code",
   "execution_count": 19,
   "metadata": {},
   "outputs": [
    {
     "name": "stdout",
     "output_type": "stream",
     "text": [
      "90\n",
      "120\n",
      "150\n",
      "180\n",
      "210\n"
     ]
    }
   ],
   "source": [
    "## Use a for loop and an if statement to do the above\n",
    "for i in range(80,210):\n",
    "    if i%30 == 0:\n",
    "        break #find the first number divisable by 30, then break the for loop\n",
    "print(i)\n",
    "while i < 210:\n",
    "    i = i+30\n",
    "    print(i)"
   ]
  },
  {
   "cell_type": "markdown",
   "metadata": {},
   "source": [
    "#### (c) For your student ID, keep dividing by 4 until it is a value lower than 10. Print out the final value.\n",
    "\n",
    "_Hint: Use a while loop here_"
   ]
  },
  {
   "cell_type": "code",
   "execution_count": 21,
   "metadata": {},
   "outputs": [
    {
     "name": "stdout",
     "output_type": "stream",
     "text": [
      "7.416087865829468\n"
     ]
    }
   ],
   "source": [
    "student_number = 31105327\n",
    "number = student_number\n",
    "\n",
    "## Complete the task specified above\n",
    "while number >=10:\n",
    "    number = number/4\n",
    "\n",
    "print(number)"
   ]
  },
  {
   "cell_type": "markdown",
   "metadata": {},
   "source": [
    "#### (d) Find the sum of all numbers in [12, 3, 56, 67, 89, 90]  using a for loop."
   ]
  },
  {
   "cell_type": "code",
   "execution_count": 22,
   "metadata": {},
   "outputs": [
    {
     "name": "stdout",
     "output_type": "stream",
     "text": [
      "317\n"
     ]
    }
   ],
   "source": [
    "numbers = [12,3,56,67,89,90]\n",
    "sum = 0\n",
    "## hint: Iterate through the list with a for loop and using the \"in\" key word\n",
    "\n",
    "# TO DO\n",
    "for i in numbers:\n",
    "    sum = sum +i\n",
    "print(sum) # print your final result"
   ]
  },
  {
   "cell_type": "markdown",
   "metadata": {},
   "source": [
    "<div class=\"alert alert-block alert-info\">\n",
    "\n",
    "## 1.4 Functions <a class=\"anchor\" id=\"functions\"></a>\n",
    "    \n",
    "Python functions provide a way to encapsulate reusable blocks of code, allowing for modular and organized programming, and facilitating code reuse and readability. Always lay out the function with comments and useful variable names."
   ]
  },
  {
   "cell_type": "markdown",
   "metadata": {},
   "source": [
    "#### (a) Write a function that find the hypotenuse of a right triangle (Hint: use the Pythagorean theorem).\n",
    "E.g. compute_hypotenuse(3, 4) → output: 5.0\n"
   ]
  },
  {
   "cell_type": "code",
   "execution_count": 23,
   "metadata": {},
   "outputs": [
    {
     "name": "stdout",
     "output_type": "stream",
     "text": [
      "5.0\n"
     ]
    }
   ],
   "source": [
    "import math\n",
    "## Define the function\n",
    "def compute_hypotenuse(x,y):\n",
    "    return math.sqrt(x*x + y*y)\n",
    "\n",
    "\n",
    "a = 3\n",
    "b = 4\n",
    "c = compute_hypotenuse(a, b)\n",
    "print(c)"
   ]
  },
  {
   "cell_type": "markdown",
   "metadata": {},
   "source": [
    "#### (b) Write a function that computes the factorial of a given number. \n",
    "E.g. factorial_fn(5) → output: 120"
   ]
  },
  {
   "cell_type": "code",
   "execution_count": 25,
   "metadata": {},
   "outputs": [
    {
     "name": "stdout",
     "output_type": "stream",
     "text": [
      "120\n"
     ]
    }
   ],
   "source": [
    "## Define the function\n",
    "def factorial_fn(x):\n",
    "    return math.factorial(x)\n",
    "\n",
    "print(factorial_fn(5))"
   ]
  },
  {
   "cell_type": "markdown",
   "metadata": {},
   "source": [
    "<div class=\"alert alert-block alert-info\">\n",
    "\n",
    "## 1.5 Classes <a class=\"anchor\" id=\"classes\"></a>\n",
    "    \n",
    "Python classes are a fundamental component of object-oriented programming in Python, allowing developers to define blueprints for creating objects with their own attributes and behaviors."
   ]
  },
  {
   "cell_type": "markdown",
   "metadata": {},
   "source": [
    "#### (a) Write a Python class Student with attributes like student_id, student_name, and lab_day, lab1_marks.\n",
    "#### (b) In the same class, add method 'assign_lab_day' to change the allocated lab day of the student.\n",
    "#### (c) In the same class, add method 'print_student_details' to print the details of a student.\n",
    "#### (d) In the same class, add method 'calculate_lab1_marks' that takes two arguments: No. of questions correctly answered and Marks allocated per question, then computes the lab1 marks by using the below formula.\n",
    "\n",
    "- #### lab1 marks = No. of questions correctly answered x Marks allocated per question"
   ]
  },
  {
   "cell_type": "code",
   "execution_count": 33,
   "metadata": {},
   "outputs": [],
   "source": [
    "## Define Student class with the Methods\n",
    "class Student:\n",
    "    def __init__(self,student_id = 12345678, student_name = \"Jeff\", lab_day = \"10 July 1979\" , lab1_marks = 598):\n",
    "        \n",
    "        self.student_name = student_name\n",
    "        self.student_id = student_id\n",
    "        self.lab_day = lab_day\n",
    "        self.lab1_marks = lab1_marks\n",
    "    def assign_lab_day(self, assigned_day):\n",
    "        self.lab_day = assigned_day\n",
    "    def print_student_details(self):\n",
    "        print(vars(self))\n",
    "    def calculate_lab1_marks(self,Num_correct_questions, marks_per_questions):\n",
    "        self.lab1_marks = Num_correct_questions * marks_per_questions\n",
    "\n",
    "\n"
   ]
  },
  {
   "cell_type": "markdown",
   "metadata": {},
   "source": [
    "#### (e) Now create an instance of this class using following data.\n",
    "- #### Name: Louise\n",
    "- #### student ID: 31169996\n",
    "- #### lab day: Tuesday\n",
    "- #### lab 1 marks: 60\n",
    "#### And print the details of the students using the print_student_details method.\n"
   ]
  },
  {
   "cell_type": "code",
   "execution_count": 35,
   "metadata": {},
   "outputs": [
    {
     "name": "stdout",
     "output_type": "stream",
     "text": [
      "{'student_name': 'Louise', 'student_id': 3169996, 'lab_day': 'Tuesday', 'lab1_marks': 60}\n"
     ]
    }
   ],
   "source": [
    "student1 = Student(student_id=3169996,student_name=\"Louise\",lab_day= \"Tuesday\",lab1_marks= 60)\n",
    "\n",
    "student1.print_student_details()"
   ]
  },
  {
   "cell_type": "markdown",
   "metadata": {},
   "source": [
    "#### Now switch the lab day using assign_lab_day method to \"Monday\". The student had answered 3 questions correctly and each question carries 25 marks, ammend the lab1 marks of the student using the calculate_lab1_marks method and reprint the students details."
   ]
  },
  {
   "cell_type": "code",
   "execution_count": 36,
   "metadata": {},
   "outputs": [
    {
     "name": "stdout",
     "output_type": "stream",
     "text": [
      "{'student_name': 'Louise', 'student_id': 3169996, 'lab_day': 'Monday', 'lab1_marks': 75}\n"
     ]
    }
   ],
   "source": [
    "## Reassign lab\n",
    "student1.assign_lab_day(\"Monday\")\n",
    "\n",
    "## Calculate marks based off what they achieved\n",
    "student1.calculate_lab1_marks(3,25)\n",
    "\n",
    "student1.print_student_details()"
   ]
  },
  {
   "cell_type": "markdown",
   "metadata": {},
   "source": [
    "<div class=\"alert alert-block alert-success\">\n",
    "    \n",
    "### Discussion questions\n",
    " \n",
    "1. In the final sub task (1.5e), explain briefly how self.marks works and how the marks is updated\n",
    "    \n",
    "2. What are the different data types in Python? \n",
    "\n",
    "3. Why would we want to use a dictionary?\n",
    "\n",
    "Answers:\n",
    "    \n",
    "1. self.marks retrieves the marks attribute that is associated with that specific instance of the class\n",
    "    \n",
    "2. some data types in python include number, string, list, dictionary, tuple\n",
    "    \n",
    "3. One example would be store some hyper paramaters that are associated with training a certian CNN model"
   ]
  },
  {
   "cell_type": "markdown",
   "metadata": {},
   "source": [
    "<div class=\"alert alert-block alert-info\">\n",
    "\n",
    "# Task 2 - Data Analysis and Visualization <a class=\"anchor\" id=\"data-analysis-and-visualization\"></a>\n",
    "\n",
    "Deep learning thrives on the synergy of data analysis and visualization, empowering us to unveil intricate patterns, extract meaningful features, and gain profound insights from complex datasets. This task will test your knowledge of two main python libraries that we often use for data analysis and visualization.\n",
    "\n",
    "- 2.1 Numpy\n",
    "- 2.2 Matplotlib"
   ]
  },
  {
   "cell_type": "markdown",
   "metadata": {},
   "source": [
    "<div class=\"alert alert-block alert-info\">\n",
    "    \n",
    "## Learning Objective \n",
    "\n",
    "This Data Analysis and Visualization section aims to provide you with the necessary skills to analyze and visualize data using two essential Python libraries: Numpy and Matplotlib. By the end of this task, you will be proficient in performing numerical computations with Numpy, processing datasets, and employing Matplotlib to create a variety of static and interactive visualizations. The acquired knowledge will empower you to uncover patterns, extract insights, and effectively communicate findings from complex datasets, confidently making informed decisions and addressing real-world data analysis challenges."
   ]
  },
  {
   "cell_type": "markdown",
   "metadata": {},
   "source": [
    "<div class=\"alert alert-block alert-info\">\n",
    "\n",
    "## 2.1 Numpy <a class=\"anchor\" id=\"numpy\"></a>\n",
    "\n",
    "<img src=\"https://seeklogo.com/images/N/numpy-logo-479C24EC79-seeklogo.com.png\" width=\"75\" height=\"75\" /> \n",
    "    \n",
    "NumPy is a powerful Python library that stands for Numerical Python. It provides efficient numerical operations on large arrays and matrices of data, along with a vast collection of mathematical functions. With NumPy, users can perform array manipulation, mathematical computations, linear algebra operations, random number generation, and much more, making it a fundamental tool for scientific computing and data analysis in Python. In this task, we will be performing manipulations on numpy arrays and understanding how they interact with one another."
   ]
  },
  {
   "cell_type": "markdown",
   "metadata": {},
   "source": [
    "#### (a) Create a python list by including your five most favorite real numbers. Then convert it to a numpy array and print it out.\n",
    "\n",
    "You may find the following numpy function useful:\n",
    "- _array_\n",
    "\n",
    "Numpy documentation can be found here: https://numpy.org/doc/"
   ]
  },
  {
   "cell_type": "code",
   "execution_count": 7,
   "metadata": {},
   "outputs": [
    {
     "name": "stdout",
     "output_type": "stream",
     "text": [
      "[ 7 17 77]\n"
     ]
    }
   ],
   "source": [
    "import numpy as np\n",
    "## Create your list\n",
    "my_fav_nums = [7,17,77]\n",
    "\n",
    "## Convert the python list to an numpy array\n",
    "x = np.array(my_fav_nums) \n",
    "print(x)"
   ]
  },
  {
   "cell_type": "markdown",
   "metadata": {},
   "source": [
    "#### (b) create and identity matrix, zero matrix, and a ones matrix of size (3, 3). Add them all together and print the result.\n",
    "\n",
    "You may find the following numpy functions useful:\n",
    "\n",
    "- _eye_\n",
    "- _zeros_\n",
    "- _ones_"
   ]
  },
  {
   "cell_type": "code",
   "execution_count": 39,
   "metadata": {},
   "outputs": [
    {
     "name": "stdout",
     "output_type": "stream",
     "text": [
      "[[2. 1. 1.]\n",
      " [1. 2. 1.]\n",
      " [1. 1. 2.]]\n"
     ]
    }
   ],
   "source": [
    "identity = np.eye(3) ## Create an identity matrix\n",
    "zeros = np.zeros((3,3)) ## Create a matrix with all zeroes\n",
    "ones = np.ones((3,3)) ## Create a matrix with all ones\n",
    "\n",
    "res = identity+zeros+ones ## Final result\n",
    "print(res)"
   ]
  },
  {
   "cell_type": "markdown",
   "metadata": {},
   "source": [
    "#### (c) Create a numpy array with values ranging from 13 to 28 (inclusive) then reshape it to a 4x4 matrix and print it out.\n",
    "\n",
    "You may find the following numpy functions useful:\n",
    "- _arange_\n",
    "- _reshape_\n",
    "\n",
    "Now, you might be thinking what is the purpose of reshape? Later on in the semester, this will become a useful tool in being able to reshape our data so it fits the neural network. For example, when we pass in a 2D image, and want to perform some classification at the end, we need to be able to __reshape__ the tensor so it becomes 1-dimensional to get the class probabilities ! "
   ]
  },
  {
   "cell_type": "code",
   "execution_count": 41,
   "metadata": {},
   "outputs": [
    {
     "name": "stdout",
     "output_type": "stream",
     "text": [
      "[[13 14 15 16]\n",
      " [17 18 19 20]\n",
      " [21 22 23 24]\n",
      " [25 26 27 28]]\n"
     ]
    }
   ],
   "source": [
    "x = np.arange(13,29) ## Create the initial numpy array\n",
    "y = x.reshape(4,4) ## Reshape the array to 4x4\n",
    "print(y)"
   ]
  },
  {
   "cell_type": "markdown",
   "metadata": {},
   "source": [
    "#### (d) The marks of five students are 48, 72, 85, 12, and 74. Create the grade vector of the students using np.where()\n",
    "- If mark $>$ 50 → grade \"A\"\n",
    "- If mark $\\leq $ 50 → grade \"B\"\n",
    "\n",
    "You may find the following numpy function useful:\n",
    "- _where_\n",
    "\n",
    "This will be useful when you want to search for particular conditions within a numpy_array, perhaps using it as a threshold in classification"
   ]
  },
  {
   "cell_type": "code",
   "execution_count": 46,
   "metadata": {},
   "outputs": [
    {
     "name": "stdout",
     "output_type": "stream",
     "text": [
      "['B' 'A' 'A' 'B' 'A']\n"
     ]
    }
   ],
   "source": [
    "marks = np.array([48,78,85,12,74]) ## Array with all the marks\n",
    "status = np.where(marks > 50, \"A\",\"B\") ## Using the numpy function to classify the grades\n",
    "print(status)"
   ]
  },
  {
   "cell_type": "markdown",
   "metadata": {},
   "source": [
    "#### (e) Create a 6x6 matrix and fill it with a checkerboard pattern.\n",
    "Note that explicitly writing the elements of the matrix is not allowed, instead you need to use numpy functions in a smart way to create this matrix. Your output should look like below.      \n",
    "Note: you may want to use a unique variable name to store this matrix since you will need to reuse it in Section 2.2(e).\n",
    "\n",
    "[[0 1 0 1 0 1]                                                      \n",
    " [1 0 1 0 1 0]                                                      \n",
    " [0 1 0 1 0 1]                                                      \n",
    " [1 0 1 0 1 0]                                                      \n",
    " [0 1 0 1 0 1]                                                      \n",
    " [1 0 1 0 1 0]]"
   ]
  },
  {
   "cell_type": "code",
   "execution_count": 165,
   "metadata": {},
   "outputs": [
    {
     "name": "stdout",
     "output_type": "stream",
     "text": [
      "[[0 1 0 1 0 1 0 1]\n",
      " [1 0 1 0 1 0 1 0]\n",
      " [0 1 0 1 0 1 0 1]\n",
      " [1 0 1 0 1 0 1 0]\n",
      " [0 1 0 1 0 1 0 1]\n",
      " [1 0 1 0 1 0 1 0]\n",
      " [0 1 0 1 0 1 0 1]\n",
      " [1 0 1 0 1 0 1 0]]\n"
     ]
    }
   ],
   "source": [
    "n = 8\n",
    "x_checkerboard = np.zeros((n, n), dtype=int)\n",
    "\n",
    "x_checkerboard[1::2, 0::2] = 1\n",
    "x_checkerboard[0::2, 1::2] = 1\n",
    "\n",
    "print(x_checkerboard)"
   ]
  },
  {
   "cell_type": "markdown",
   "metadata": {},
   "source": [
    "<div class=\"alert alert-block alert-success\">\n",
    "\n",
    "### Discussion\n",
    "\n",
    "#### Look at the following code examples and comment on what is happening in the following cases\n"
   ]
  },
  {
   "cell_type": "code",
   "execution_count": 7,
   "metadata": {},
   "outputs": [
    {
     "name": "stdout",
     "output_type": "stream",
     "text": [
      "\n",
      "X: \n",
      "[[1. 0.]\n",
      " [0. 1.]]\n",
      "\n",
      "Y: \n",
      "[[2 5]\n",
      " [1 3]]\n",
      "\n",
      "case (a) \n",
      "[[3. 5.]\n",
      " [1. 4.]]\n",
      "\n",
      "case (b): \n",
      "[[3. 5.]\n",
      " [1. 4.]]\n",
      "\n",
      "case (c): \n",
      "[[2. 5.]\n",
      " [1. 3.]]\n",
      "\n",
      "case (d): \n",
      "[[2. 0.]\n",
      " [0. 3.]]\n",
      "\n",
      "case (e): \n",
      "[[ 4 25]\n",
      " [ 1  9]]\n",
      "\n",
      "case (f): \n",
      "[[ 9 25]\n",
      " [ 5 14]]\n"
     ]
    }
   ],
   "source": [
    "X = np.eye(2)\n",
    "Y = np.array([[2, 5], [1, 3]])\n",
    "\n",
    "print(f\"\\nX: \\n{X}\")\n",
    "print(f\"\\nY: \\n{Y}\")\n",
    "\n",
    "## case (i)\n",
    "addXY = np.add(X, Y)\n",
    "print(f\"\\ncase (a) \\n{addXY}\")\n",
    "## case (ii)\n",
    "addXY2 = X + Y\n",
    "print(f\"\\ncase (b): \\n{addXY2}\")\n",
    "## case (iii)\n",
    "multXY = np.matmul(X, Y)\n",
    "print(f\"\\ncase (c): \\n{multXY}\")\n",
    "## case (iv)\n",
    "multXY2 = X * Y\n",
    "print(f\"\\ncase (d): \\n{multXY2}\")\n",
    "## case (v)\n",
    "powY = Y**2\n",
    "print(f\"\\ncase (e): \\n{powY}\")\n",
    "## case (vi)\n",
    "powY2 = np.matmul(Y, Y)\n",
    "print(f\"\\ncase (f): \\n{powY2}\")"
   ]
  },
  {
   "cell_type": "markdown",
   "metadata": {},
   "source": [
    "<div class=\"alert alert-block alert-success\">\n",
    "\n",
    "Write your answers here.\n",
    "    \n",
    "case (i): we are adding the matrices X and Y using the built in function in numpy, which does the summation of matrices element-wise\n",
    "    \n",
    "case (ii): we are also adding the matrices X and Y but using the built in + operator in python, which returns the same value\n",
    "    \n",
    "case (iii): we are multiplying the matrix X by Y using a function in numpy to help us do that, which returns the matrix product, which is the same as Y since X is an identity matrix\n",
    "    \n",
    "case (iv): we are multiplying the matrix X by Y using the * operator, which returns the element wise product matrix\n",
    "    \n",
    "case (v): we are raising matrix Y to the power of two using ** operator, which returns the element-wise powers of two of Y elements\n",
    "    \n",
    "case (vi): we are squaring the matrix Y, using the matrix multiplication funtion used earlier, which returns the matrix product of Y multiplied by itself"
   ]
  },
  {
   "cell_type": "markdown",
   "metadata": {},
   "source": [
    "<div class=\"alert alert-block alert-info\">\n",
    "\n",
    "## 2.2 Matplotlib <a class=\"anchor\" id=\"matplotlib\"></a>\n",
    "\n",
    "<img src=\"https://matplotlib.org/_static/logo2_compressed.svg\" width=\"200\" height=\"200\" />\n",
    "\n",
    "Matplotlib is a popular Python library used for creating visualizations and plots. It provides a wide range of plotting functions and options, allowing users to create line plots, scatter plots, bar plots, histograms, and many other types of charts. Matplotlib provides a flexible and customizable interface, enabling users to fine-tune their plots with various styling options, labels, titles, and annotations. With its intuitive API and extensive documentation, Matplotlib is widely used in data exploration, scientific research, and data visualization tasks in Python."
   ]
  },
  {
   "cell_type": "markdown",
   "metadata": {},
   "source": [
    "#### (a) Plot a noisy Parabola using a scatter plot by following the below instructions.\n",
    "- create some empty lists to store x and y-axis values\n",
    "- In a for-loop create the x and y values\n",
    "- use the math function \"pow\" to compute x^2 and then add a random number from 0-1. The range of x values will be from [-2.5, 2.5]\n",
    "- Use plt.scatter for plotting\n",
    "- find the minimum of the y values and find the corresponding x value. Then annotate that point as \"minimum\" using plt.annotate (Use different color for clarity)\n",
    "- Make sure you add your x and y labels\n",
    "- Add a title as well.\n",
    "- Play around with the colour and marker types"
   ]
  },
  {
   "cell_type": "code",
   "execution_count": 84,
   "metadata": {},
   "outputs": [
    {
     "data": {
      "image/png": "[encoded data removed]",
      "text/plain": [
       "<Figure size 640x480 with 1 Axes>"
      ]
     },
     "metadata": {},
     "output_type": "display_data"
    }
   ],
   "source": [
    "import random as rnd\n",
    "import matplotlib.pyplot as plt\n",
    "\n",
    "# Initialise variables\n",
    "x_parab_values = []\n",
    "y_parab_values = []\n",
    "\n",
    "## Using for loop\n",
    "for i in range(-25,25,1):\n",
    "    x = i/10\n",
    "    x_parab_values.append(x) \n",
    "    y_parab_values.append(x**2 + rnd.uniform(0.,1.))\n",
    "\n",
    "plt.scatter(x_parab_values,y_parab_values,marker='$E$',color = 'purple')\n",
    "## Generate x values\n",
    "## Generate the y-values based on the conditions specified\n",
    "\n",
    "## Add in plot, make sure you properly label it\n",
    "\n",
    "## Find minimum and annotate in the plot\n",
    "y_min = min(y_parab_values)\n",
    "index = np.argmin(y_parab_values)\n",
    "x_min = x_parab_values[index]\n",
    "plt.annotate('minimum',[x_min,y_min],[x_min-1.5,y_min-0.3],arrowprops=dict(facecolor = 'yellow'),color = 'red')\n",
    "\n",
    "## Add Y-label, X-label, title\n",
    "plt.xlabel('x',color = 'blue')\n",
    "plt.ylabel('y',color = 'blue')\n",
    "plt.title('y = x^2 with noise',color = 'blue')\n",
    "\n",
    "    \n",
    "plt.show()"
   ]
  },
  {
   "cell_type": "markdown",
   "metadata": {},
   "source": [
    "#### (b) Plot the audio waveform of a bird chirping using a line plot by following the below instructions.\n",
    "- Load the data in file \"birdy.npy\". It will load a numpy array of size (13129,2) in which the first column is the time indices and the second column is the amplitude values.\n",
    "- Use plt.plot for plotting\n",
    "- x-axis should be the time index\n",
    "- y-axis should be the Amplitude\n",
    "- Make sure you add your x and y labels\n",
    "- Add a title as well."
   ]
  },
  {
   "cell_type": "code",
   "execution_count": 109,
   "metadata": {},
   "outputs": [
    {
     "name": "stdout",
     "output_type": "stream",
     "text": [
      "[[ 0.00000000e+00 -1.53846154e-03]\n",
      " [ 1.00000000e+00  0.00000000e+00]\n",
      " [ 2.00000000e+00 -7.69230769e-04]\n",
      " ...\n",
      " [ 1.31260000e+04  0.00000000e+00]\n",
      " [ 1.31270000e+04  0.00000000e+00]\n",
      " [ 1.31280000e+04  0.00000000e+00]]\n"
     ]
    },
    {
     "data": {
      "image/png": "[encoded data removed]",
      "text/plain": [
       "<Figure size 640x480 with 1 Axes>"
      ]
     },
     "metadata": {},
     "output_type": "display_data"
    }
   ],
   "source": [
    "## load data\n",
    "bird_chirp = np.load(\"data/birdy.npy\")\n",
    "print(bird_chirp)\n",
    "t, Amp = [bird_chirp[::,0],bird_chirp[::,1]] ## extract time indices and amplitude values\n",
    "\n",
    "## Add in plot, make sure you properly label it\n",
    "plt.plot(t,Amp,color = 'olive')\n",
    "## Add Y-label, X-label, title\n",
    "plt.xlabel('time index')\n",
    "plt.ylabel('amplitude')\n",
    "plt.title('bird chirping sound signal')\n",
    "\n",
    "plt.show()"
   ]
  },
  {
   "cell_type": "markdown",
   "metadata": {},
   "source": [
    "#### (c) Plot a normal distribution using a bar plot by following the below instructions.\n",
    "- Use np.linspace to create 100 linearly spaced values for your x-axis from -5 to +5\n",
    "- Calculate the PDF values using the normal distribution formula with mean 0 and variance 1\n",
    "- Use plt.bar for plotting\n",
    "- You may want to use the \"width\" parameter to make it more attractive\n",
    "- Add a horizontal line that goes through half the max value of the generated probability distribution\n",
    "- Compute the half of the maximum value of the probability densitites (use a different color for clarity)\n",
    "- Make sure you add your x and y labels\n",
    "- Add a title as well.\n",
    "\n",
    "For your convenience, the normal distribution is as follows:\n",
    "\n",
    "$$ f(x) = \\frac{1}{\\sigma \\sqrt{2\\pi}} e^{-\\frac{(x-\\mu)^2}{2\\sigma^2}}$$\n",
    "\n"
   ]
  },
  {
   "cell_type": "code",
   "execution_count": 178,
   "metadata": {},
   "outputs": [
    {
     "name": "stdout",
     "output_type": "stream",
     "text": [
      "0.19921690084567323\n"
     ]
    },
    {
     "data": {
      "image/png": "[encoded data removed]",
      "text/plain": [
       "<Figure size 640x480 with 1 Axes>"
      ]
     },
     "metadata": {},
     "output_type": "display_data"
    }
   ],
   "source": [
    "import math\n",
    "x = np.linspace(-5,5,100) ## Use linspace to generate x-values\n",
    "\n",
    "mu = 0\n",
    "sigma = 1\n",
    "pdf = 1/(sigma*math.sqrt(2*math.pi)) * pow(math.e,-(x-mu)**2/(2*sigma**2)) # Pass it through a normal distribution formula\n",
    "\n",
    "## Add bar plot with width parameter\n",
    "plt.bar(x,pdf,width=0.11,color = 'navy')\n",
    "## Add horizontal line\n",
    "max_pdf = max(pdf)\n",
    "plt.axhline(max_pdf/2,color = 'orange')\n",
    "print(max_pdf/2)\n",
    "\n",
    "## Add Y-label, X-label, title\n",
    "plt.xlabel('x')\n",
    "plt.ylabel('pdf')\n",
    "plt.title('normal distribution pdf, mu = 0, sigma = 1')\n",
    "\n",
    "plt.show()"
   ]
  },
  {
   "cell_type": "markdown",
   "metadata": {},
   "source": [
    "#### (d) Plot the contours of a paraboloid usng a contour plot by following the below instructions.\n",
    "- Use np.linspace to create 100 linearly spaced values for your x-axis from -1 to +1\n",
    "- Use np.linspace to create 100 linearly spaced values for your y-axis from -2 to +2\n",
    "- Use np.meshgrid to create a grid where the z-axis values can be evaluated\n",
    "- Evaluate z-axis values using $z = x^2 + \\frac{1}{4} y^2$\n",
    "- Use plt.contourf for plotting\n",
    "- Make sure the x- and y-axes are of equal scale\n",
    "- Make sure to add a colorbar\n",
    "- Make sure you add your x and y labels\n",
    "- Add a title as well."
   ]
  },
  {
   "cell_type": "code",
   "execution_count": 177,
   "metadata": {},
   "outputs": [
    {
     "name": "stdout",
     "output_type": "stream",
     "text": [
      "[[2.         1.96000408 1.92082441 ... 1.92082441 1.96000408 2.        ]\n",
      " [1.96000408 1.92000816 1.88082849 ... 1.88082849 1.92000816 1.96000408]\n",
      " [1.92082441 1.88082849 1.84164881 ... 1.84164881 1.88082849 1.92082441]\n",
      " ...\n",
      " [1.92082441 1.88082849 1.84164881 ... 1.84164881 1.88082849 1.92082441]\n",
      " [1.96000408 1.92000816 1.88082849 ... 1.88082849 1.92000816 1.96000408]\n",
      " [2.         1.96000408 1.92082441 ... 1.92082441 1.96000408 2.        ]]\n"
     ]
    },
    {
     "data": {
      "image/png": "[encoded data removed]",
      "text/plain": [
       "<Figure size 640x480 with 2 Axes>"
      ]
     },
     "metadata": {},
     "output_type": "display_data"
    }
   ],
   "source": [
    "x_vals = np.linspace(-1,1,100) ## Use linspace to generate x-values\n",
    "y_vals = np.linspace(-2,2,100) ## Use linspace to generate y-values\n",
    "X, Y = np.meshgrid(x_vals,y_vals) ## Use meshgrid to generate a grid\n",
    "\n",
    "\n",
    "Z = X**2 + 0.25*Y**2 ## Evaluate z-values on the grid\n",
    "print(Z)\n",
    "## Add in the contour plot, make sure you properly label it\n",
    "plot = plt.contourf(X,Y,Z,cmap = 'inferno')\n",
    "## Make sure x- and y-axes are of equal scale\n",
    "plt.axis('equal')\n",
    "\n",
    "\n",
    "## Add colorbar\n",
    "plt.colorbar(plot)\n",
    "\n",
    "## Add Y-label, X-label, title\n",
    "plt.xlabel('x')\n",
    "plt.ylabel('y')\n",
    "plt.title('contours of Z = x^2 + 0.25y^2')\n",
    "\n",
    "plt.show()"
   ]
  },
  {
   "cell_type": "markdown",
   "metadata": {},
   "source": [
    "#### (e) Visualize a rotated checkerboard pattern using plt.imshow() by following the below instructions.\n",
    "- Use numpy array that you created in 2.1(e) and rotate it by 90 degrees\n",
    "- Visualize it using plt.imshow()\n",
    "- Make sure the image is black & white\n",
    "- get rid of the x and y-axis ticks\n",
    "- add a colorbar\n",
    "- Add a title as well.\n",
    "\n",
    "_plt.imshow_ is a way to display 2D arrays/tensors which will be useful in visualizing images or any results. We will be using this throughout the course.\n",
    "\n",
    "_Hint: There is a rotation function within the numpy library that you could use_"
   ]
  },
  {
   "cell_type": "code",
   "execution_count": 176,
   "metadata": {},
   "outputs": [
    {
     "data": {
      "image/png": "[encoded data removed]",
      "text/plain": [
       "<Figure size 640x480 with 2 Axes>"
      ]
     },
     "metadata": {},
     "output_type": "display_data"
    }
   ],
   "source": [
    "## Use imshow to visualize the checkerboard made in 2.1e\n",
    "y_checkerboard = np.rot90(x_checkerboard)\n",
    "checkerboard = plt.imshow(y_checkerboard,cmap = plt.cm.get_cmap('gray',2))\n",
    "## REMOVE x-axis and y-axis ticks\n",
    "plt.xticks([]) \n",
    "plt.yticks([]) \n",
    "## Add colorbar\n",
    "ticks = [1,0]\n",
    "plt.colorbar(checkerboard, ticks= ticks)\n",
    "plt.title('Checker Board')\n",
    "plt.show()"
   ]
  },
  {
   "cell_type": "markdown",
   "metadata": {},
   "source": [
    "<div class=\"alert alert-block alert-success\">\n",
    "\n",
    "### Discussion\n",
    "\n",
    "1. What are the differences between plt.imshow() and plt.plot()\n",
    "    \n",
    "2. How can you customize the appearance of a plot, such as changing colors, labels, and title?\n",
    "    \n",
    "### Answer\n",
    "    \n",
    "1. imshow shows the data as pixels, for values between 0 and 1, where anything more than 1 is the same as 1, whereas plot shows the values as lines in a graph\n",
    "    \n",
    "2. the labels and title can be changed by using plt.xlabel(or plt.ylabel) and plt.title respectively. the color of each of these can be changed using the color attribute, eg. plt.xlabel('xlabel',color = 'pink')"
   ]
  },
  {
   "cell_type": "markdown",
   "metadata": {},
   "source": [
    "<div class=\"alert alert-block alert-danger\">\n",
    "\n",
    "#### Congratulations on finishing the first part of lab 1. You can now do the second part of lab 1 where you will apply the things you have learnt so far to a geometric and mathematical problem."
   ]
  }
 ],
 "metadata": {
  "kernelspec": {
   "display_name": "Python 3 (ipykernel)",
   "language": "python",
   "name": "python3"
  },
  "language_info": {
   "codemirror_mode": {
    "name": "ipython",
    "version": 3
   },
   "file_extension": ".py",
   "mimetype": "text/x-python",
   "name": "python",
   "nbconvert_exporter": "python",
   "pygments_lexer": "ipython3",
   "version": "3.7.16"
  },
  "vscode": {
   "interpreter": {
    "hash": "dcb4be09c6369887b255ec43f7f14d3e527fd1b58c5c0441738eb1ab0a956e78"
   }
  }
 },
 "nbformat": 4,
 "nbformat_minor": 4
}
